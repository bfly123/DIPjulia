{
 "cells": [
  {
   "cell_type": "markdown",
   "metadata": {},
   "source": [
    "# Dual Information Points Method"
   ]
  },
  {
   "cell_type": "code",
   "execution_count": null,
   "metadata": {},
   "outputs": [],
   "source": [
    "module DIP\n",
    "\n",
    "func"
   ]
  },
  {
   "cell_type": "code",
   "execution_count": null,
   "metadata": {},
   "outputs": [],
   "source": [
    "function DIP(pxₚ,pyₚ,Nxₚ,Nyₚ,Uₚ,px,py,u,v,U,dt)\n",
    "    I,J = size(U)\n",
    "    Uᵢ = U\n",
    "    Mrk = zeros(Int,I,J)\n",
    "    uₚ,vₚ = speed(u,v,pxₚ,pyₚ,Nxₚ,Nyₚ,dx,dy)\n",
    "    uc,vc = speed(u,v,px,py,dx,dy)\n",
    "\n",
    "    pxₚ,pyₚ,Nxₚ,Nyₚ = renew_particle(pxₚ,pyₚ,Nxₚ,Nyₚ,uₚ,vₚ,dt,dx,dy)\n",
    "    px,py,U = renew_cell(px,py,uc,vc,U,Mrk)\n",
    "    px,py,U = correct_by_particle(pxₚ,pyₚ,Nxₚ,Nyₚ,Uₚ,px,py,U,Mrk)\n",
    "    bound!(px,py,U,Mrk)\n",
    "    px,py,U = blank(px,py,U,Uᵢ,uc,vc)\n",
    "    "
   ]
  },
  {
   "cell_type": "code",
   "execution_count": 53,
   "metadata": {},
   "outputs": [
    {
     "data": {
      "text/plain": [
       "bound! (generic function with 1 method)"
      ]
     },
     "execution_count": 53,
     "metadata": {},
     "output_type": "execute_result"
    }
   ],
   "source": [
    "function bound!(px,py,U,Mrk)\n",
    "    I,J = size(U)\n",
    "    for i in 1:I\n",
    "       for  j = [1,J] \n",
    "        Mrk[i,j] = 1\n",
    "        U[i,j] = 0\n",
    "        px[i,j] =0\n",
    "        py[i,j] = 0\n",
    "        end\n",
    "    end\n",
    "    for j in 1:J\n",
    "       for  i = [1,I] \n",
    "        Mrk[i,j] = 1\n",
    "        U[i,j] = 0\n",
    "        px[i,j] =0\n",
    "        py[i,j] = 0\n",
    "        end\n",
    "    end\n",
    "end\n"
   ]
  },
  {
   "cell_type": "code",
   "execution_count": 15,
   "metadata": {},
   "outputs": [
    {
     "data": {
      "text/plain": [
       "correct_by_particle (generic function with 1 method)"
      ]
     },
     "execution_count": 15,
     "metadata": {},
     "output_type": "execute_result"
    }
   ],
   "source": [
    "function correct_by_particle(pxₚ,pyₚ,Nxₚ,Nyₚ,Uₚ,px,py,U,Mrk)\n",
    "    I,J = size(Uₚ)\n",
    "    Mrk₀ = zeors(Int,I,J)\n",
    "    for i in 1:I\n",
    "        for j in 1:J\n",
    "            ix = Nxₚ;iy = Nyₚ\n",
    "            if 1≤ix ≤I && 1≤iy ≤ J \n",
    "                if Mrk₀ == 1\n",
    "                    if U[ix,iy] == Uₚ[i,j]\n",
    "                        px[ix,iy] = 1/2*(px[ix,iy]+pxₚ[i,j])\n",
    "                        py[ix,iy] = 1/2*(py[ix,iy]+pyₚ[i,j])\n",
    "                    elseif U[ix,iy] < Uₚ[i,j]\n",
    "                        px[ix,iy] = pxₚ[i,j]\n",
    "                        py[ix,iy] = pyₚ[i,j]\n",
    "                        U[ix,iy] = Uₚ[i,j]\n",
    "                    end\n",
    "                elseif Mrk₀==0\n",
    "                    px[ix,iy] = pxₚ[i,j]\n",
    "                    py[ix,iy] = pyₚ[i,j]\n",
    "                    U[ix,iy] = Uₚ[i,j]\n",
    "                    Mrk₀[ix,iy] = 1\n",
    "                    Mrk[ix,iy] =1\n",
    "                end\n",
    "            end\n",
    "        end\n",
    "    end\n",
    "    return px,py,U\n",
    "end"
   ]
  },
  {
   "cell_type": "code",
   "execution_count": 14,
   "metadata": {},
   "outputs": [
    {
     "data": {
      "text/plain": [
       "renew_cell (generic function with 1 method)"
      ]
     },
     "execution_count": 14,
     "metadata": {},
     "output_type": "execute_result"
    }
   ],
   "source": [
    "function renew_cell(px,py,uc,vc,U,Mrk)\n",
    "    I,J = size(U)\n",
    "    Uᵢ = copy(U)\n",
    "    pxᵢ = copy(px)\n",
    "    pyᵢ = copy(py)\n",
    "    for i in 1:I\n",
    "        for j in 1:J\n",
    "            q = px[i,j] + uc[i,j]*dt/dx\n",
    "            ix = i+floor(q+0.5)\n",
    "            q1= py[i,j] +vc[i,j]*dt/dy\n",
    "            iy = j+floor(q1+0.5)\n",
    "            if  1≤ix ≤I && 1≤iy ≤ J \n",
    "                if Mrk[ix,iy] == 1 \n",
    "                    if Uᵢ[ix,iy] == U[i,j]\n",
    "                        pxᵢ[ix,iy] = 1/2*(pxᵢ[ix,iy] + q-floor(q+0.5))\n",
    "                        pyᵢ[ix,iy] = 1/2*(pyᵢ[ix,iy] + q1-floor(q1+0.5))\n",
    "                    elseif Uᵢ[ix,iy] < U[i,j]\n",
    "                        Uᵢ[ix,iy] = U[i,j]\n",
    "                        pxᵢ[ix,iy] =  q-floor(q+0.5)\n",
    "                        pyᵢ[ix,iy] = q1 -floor(q+0.5)\n",
    "                    end\n",
    "                elseif Mrk[ix,iy] == 0 \n",
    "                    Uᵢ[ix,iy] = U[i,j]\n",
    "                    pxᵢ[ix,iy] =  q-floor(q+0.5)\n",
    "                    pyᵢ[ix,iy] = q1 -floor(q+0.5)\n",
    "                    Mrk[ix,iy] = 1\n",
    "                end\n",
    "            end\n",
    "                    \n",
    "        end\n",
    "    end\n",
    "    \n",
    "    return pxᵢ,pyᵢ,Uᵢ\n",
    "end"
   ]
  },
  {
   "cell_type": "code",
   "execution_count": 8,
   "metadata": {},
   "outputs": [
    {
     "data": {
      "text/plain": [
       "renew_particle (generic function with 1 method)"
      ]
     },
     "execution_count": 8,
     "metadata": {},
     "output_type": "execute_result"
    }
   ],
   "source": [
    "function renew_particle(pxₚ,pyₚ,Nxₚ,Nyₚ,uₚ,vₚ,dt,dx,dy)\n",
    "    I,J = size(uₚ)\n",
    "    for i in 1:I\n",
    "        for j in 1:J\n",
    "            q = pxₚ[i,j] + uₚ[i,j]*dt/dx\n",
    "            Nxₚ[i,j] += floor(q+0.5)\n",
    "            pxₚ[i,j] = q-floor(q+0.5)\n",
    "            \n",
    "            q = pyₚ[i,j]+vₚ[i,j]*dt/dy\n",
    "            Nyₚ[i,j] += floor(q+0.5)\n",
    "            pyₚ[i,j] = q-floor(q+0.5)\n",
    "        end\n",
    "    end\n",
    "    return pxₚ,pyₚ,Nxₚ,Nyₚ\n",
    "end"
   ]
  },
  {
   "cell_type": "code",
   "execution_count": 9,
   "metadata": {},
   "outputs": [
    {
     "data": {
      "text/plain": [
       "true"
      ]
     },
     "execution_count": 9,
     "metadata": {},
     "output_type": "execute_result"
    }
   ],
   "source": [
    " 0< 2<3"
   ]
  },
  {
   "cell_type": "code",
   "execution_count": 10,
   "metadata": {},
   "outputs": [
    {
     "name": "stdout",
     "output_type": "stream",
     "text": [
      "1"
     ]
    }
   ],
   "source": [
    "x = 1\n",
    "if 0<x<2\n",
    "    print(x)\n",
    "end"
   ]
  },
  {
   "cell_type": "code",
   "execution_count": 11,
   "metadata": {},
   "outputs": [
    {
     "data": {
      "text/plain": [
       "false"
      ]
     },
     "execution_count": 11,
     "metadata": {},
     "output_type": "execute_result"
    }
   ],
   "source": [
    "1<2 && 1>2"
   ]
  },
  {
   "cell_type": "code",
   "execution_count": 25,
   "metadata": {},
   "outputs": [
    {
     "name": "stdout",
     "output_type": "stream",
     "text": [
      "1"
     ]
    }
   ],
   "source": [
    "for i in 1:2:4\n",
    "    print(i)\n",
    "end"
   ]
  },
  {
   "cell_type": "code",
   "execution_count": 34,
   "metadata": {},
   "outputs": [
    {
     "name": "stdout",
     "output_type": "stream",
     "text": [
      "2457"
     ]
    }
   ],
   "source": [
    "for j in (1,3,4,6)\n",
    "    j = j+1\n",
    "    print(j)\n",
    "end"
   ]
  },
  {
   "cell_type": "code",
   "execution_count": 51,
   "metadata": {},
   "outputs": [
    {
     "name": "stdout",
     "output_type": "stream",
     "text": [
      "1\n",
      "2\n"
     ]
    }
   ],
   "source": [
    "global j = 1\n",
    " j =2\n",
    "for j in (1,2)\n",
    "    println(j)\n",
    "end"
   ]
  },
  {
   "cell_type": "code",
   "execution_count": 52,
   "metadata": {},
   "outputs": [
    {
     "data": {
      "text/plain": [
       "2"
      ]
     },
     "execution_count": 52,
     "metadata": {},
     "output_type": "execute_result"
    }
   ],
   "source": [
    "j"
   ]
  },
  {
   "cell_type": "code",
   "execution_count": null,
   "metadata": {},
   "outputs": [],
   "source": []
  }
 ],
 "metadata": {
  "kernelspec": {
   "display_name": "Julia 1.0.0",
   "language": "julia",
   "name": "julia-1.0"
  },
  "language_info": {
   "file_extension": ".jl",
   "mimetype": "application/julia",
   "name": "julia",
   "version": "1.0.0"
  }
 },
 "nbformat": 4,
 "nbformat_minor": 2
}
